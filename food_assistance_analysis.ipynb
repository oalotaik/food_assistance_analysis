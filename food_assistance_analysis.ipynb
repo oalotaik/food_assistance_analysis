{
 "cells": [
  {
   "cell_type": "markdown",
   "metadata": {},
   "source": [
    "## Introduction\n",
    "In this notebook, I provide an analysis for food assistance efforts in Central PA. In particular, I look at how food agencies, e.g. soup kitchens and local food banks, are spread over the 27 counties of Central PA (the service area of the Central Pennsylvania Food Bank). In addition to spatial analysis, I also look at whether there are patterns between the presence of a food agency and the demographics of local communities. I use block groups as the geographic units of analysis."
   ]
  },
  {
   "cell_type": "markdown",
   "metadata": {},
   "source": [
    "## Data:\n",
    "1. **Block groups dataset (source: [American FactFinder](https://factfinder.census.gov/faces/nav/jsf/pages/index.xhtml)):**  \n",
    "a. **geoid**: block group id  \n",
    "b. **aland**: area of land (non-water) in square meter  \n",
    "c. **awater**: area of water surfaces  \n",
    "d. **income**: average per capita income ($)  \n",
    "e. **population**: number of people  \n",
    "f. **kmdensity**: population density per squared kilometer (people/sq km)  \n",
    "g. **centx**: x coordinate of block group centroid (longitude)  \n",
    "h. **centy**: y coordinate of block group centroid (latitude)  \n",
    "\n",
    "\n",
    "2. **Agencies dataset (source: Central PA Food Bank)**:   \n",
    "a. **AgencyRef**: agency id  \n",
    "b. **AgencyName**: name of agency  \n",
    "c. **County**: county where the agency is located  \n",
    "d. **Addr1**: stree address of agency  \n",
    "e. **City**: city where the agency is located  \n",
    "f. **State**: state where the agency is located  \n",
    "g. **AgencyType**: type of agency  \n",
    "h. **lat**: latitude of agency  \n",
    "i. **lon**: longitude of agency  "
   ]
  },
  {
   "cell_type": "markdown",
   "metadata": {},
   "source": [
    "## Import data and necessary packages "
   ]
  },
  {
   "cell_type": "code",
   "execution_count": 1,
   "metadata": {},
   "outputs": [],
   "source": [
    "import pandas as pd\n",
    "import seaborn as sb\n",
    "import matplotlib.pyplot as plt\n",
    "plt.style.use('seaborn-darkgrid')\n",
    "from math import sin, cos, sqrt, atan2, radians\n",
    "import numpy as np\n",
    "%matplotlib inline"
   ]
  },
  {
   "cell_type": "code",
   "execution_count": 2,
   "metadata": {},
   "outputs": [],
   "source": [
    "# block groups data\n",
    "block_groups = pd.read_csv('block_groups_data.csv', index_col='geoid')\n",
    "# agencies data\n",
    "agencies = pd.read_csv('agency_data.csv', index_col='AgencyRef')"
   ]
  },
  {
   "cell_type": "code",
   "execution_count": 3,
   "metadata": {},
   "outputs": [
    {
     "data": {
      "text/html": [
       "<div>\n",
       "<style scoped>\n",
       "    .dataframe tbody tr th:only-of-type {\n",
       "        vertical-align: middle;\n",
       "    }\n",
       "\n",
       "    .dataframe tbody tr th {\n",
       "        vertical-align: top;\n",
       "    }\n",
       "\n",
       "    .dataframe thead th {\n",
       "        text-align: right;\n",
       "    }\n",
       "</style>\n",
       "<table border=\"1\" class=\"dataframe\">\n",
       "  <thead>\n",
       "    <tr style=\"text-align: right;\">\n",
       "      <th></th>\n",
       "      <th>aland</th>\n",
       "      <th>awater</th>\n",
       "      <th>income</th>\n",
       "      <th>population</th>\n",
       "      <th>kmdensity</th>\n",
       "      <th>centx</th>\n",
       "      <th>centy</th>\n",
       "    </tr>\n",
       "    <tr>\n",
       "      <th>geoid</th>\n",
       "      <th></th>\n",
       "      <th></th>\n",
       "      <th></th>\n",
       "      <th></th>\n",
       "      <th></th>\n",
       "      <th></th>\n",
       "      <th></th>\n",
       "    </tr>\n",
       "  </thead>\n",
       "  <tbody>\n",
       "    <tr>\n",
       "      <th>420130110012</th>\n",
       "      <td>23519032</td>\n",
       "      <td>13214</td>\n",
       "      <td>22944</td>\n",
       "      <td>846</td>\n",
       "      <td>35.970901</td>\n",
       "      <td>-78.498430</td>\n",
       "      <td>40.448109</td>\n",
       "    </tr>\n",
       "    <tr>\n",
       "      <th>420130105001</th>\n",
       "      <td>27698847</td>\n",
       "      <td>29740</td>\n",
       "      <td>23042</td>\n",
       "      <td>715</td>\n",
       "      <td>25.813299</td>\n",
       "      <td>-78.439655</td>\n",
       "      <td>40.559719</td>\n",
       "    </tr>\n",
       "    <tr>\n",
       "      <th>420130115002</th>\n",
       "      <td>18645960</td>\n",
       "      <td>0</td>\n",
       "      <td>19971</td>\n",
       "      <td>1269</td>\n",
       "      <td>68.057602</td>\n",
       "      <td>-78.467734</td>\n",
       "      <td>40.347121</td>\n",
       "    </tr>\n",
       "  </tbody>\n",
       "</table>\n",
       "</div>"
      ],
      "text/plain": [
       "                 aland  awater  income  population  kmdensity      centx  \\\n",
       "geoid                                                                      \n",
       "420130110012  23519032   13214   22944         846  35.970901 -78.498430   \n",
       "420130105001  27698847   29740   23042         715  25.813299 -78.439655   \n",
       "420130115002  18645960       0   19971        1269  68.057602 -78.467734   \n",
       "\n",
       "                  centy  \n",
       "geoid                    \n",
       "420130110012  40.448109  \n",
       "420130105001  40.559719  \n",
       "420130115002  40.347121  "
      ]
     },
     "execution_count": 3,
     "metadata": {},
     "output_type": "execute_result"
    }
   ],
   "source": [
    "block_groups.head(3)"
   ]
  },
  {
   "cell_type": "code",
   "execution_count": 4,
   "metadata": {},
   "outputs": [
    {
     "data": {
      "text/html": [
       "<div>\n",
       "<style scoped>\n",
       "    .dataframe tbody tr th:only-of-type {\n",
       "        vertical-align: middle;\n",
       "    }\n",
       "\n",
       "    .dataframe tbody tr th {\n",
       "        vertical-align: top;\n",
       "    }\n",
       "\n",
       "    .dataframe thead th {\n",
       "        text-align: right;\n",
       "    }\n",
       "</style>\n",
       "<table border=\"1\" class=\"dataframe\">\n",
       "  <thead>\n",
       "    <tr style=\"text-align: right;\">\n",
       "      <th></th>\n",
       "      <th>AgencyName</th>\n",
       "      <th>County</th>\n",
       "      <th>Addr1</th>\n",
       "      <th>City</th>\n",
       "      <th>State</th>\n",
       "      <th>AgencyType</th>\n",
       "      <th>lat</th>\n",
       "      <th>lon</th>\n",
       "    </tr>\n",
       "    <tr>\n",
       "      <th>AgencyRef</th>\n",
       "      <th></th>\n",
       "      <th></th>\n",
       "      <th></th>\n",
       "      <th></th>\n",
       "      <th></th>\n",
       "      <th></th>\n",
       "      <th></th>\n",
       "      <th></th>\n",
       "    </tr>\n",
       "  </thead>\n",
       "  <tbody>\n",
       "    <tr>\n",
       "      <th>11050</th>\n",
       "      <td>BETHLEHEM STONEPILE UMC</td>\n",
       "      <td>York</td>\n",
       "      <td>250 BETHLEHEM CHURCH ROAD</td>\n",
       "      <td>RED LION</td>\n",
       "      <td>PA</td>\n",
       "      <td>Church Pantry - Agency</td>\n",
       "      <td>39.894004</td>\n",
       "      <td>-76.570890</td>\n",
       "    </tr>\n",
       "    <tr>\n",
       "      <th>40036</th>\n",
       "      <td>SON LIGHT HOUSE</td>\n",
       "      <td>Lycoming</td>\n",
       "      <td>130 CARPENTER STREET</td>\n",
       "      <td>MUNCY</td>\n",
       "      <td>PA</td>\n",
       "      <td>Non-church Pantry - Agency</td>\n",
       "      <td>41.205642</td>\n",
       "      <td>-76.780767</td>\n",
       "    </tr>\n",
       "    <tr>\n",
       "      <th>40043</th>\n",
       "      <td>WELLSBORO AREA FOOD PANTRY</td>\n",
       "      <td>Tioga</td>\n",
       "      <td>36 MAIN STREET</td>\n",
       "      <td>WELLSBORO</td>\n",
       "      <td>PA</td>\n",
       "      <td>Non-church Pantry - Agency</td>\n",
       "      <td>41.749703</td>\n",
       "      <td>-77.300036</td>\n",
       "    </tr>\n",
       "  </tbody>\n",
       "</table>\n",
       "</div>"
      ],
      "text/plain": [
       "                           AgencyName    County                      Addr1  \\\n",
       "AgencyRef                                                                    \n",
       "11050         BETHLEHEM STONEPILE UMC      York  250 BETHLEHEM CHURCH ROAD   \n",
       "40036                 SON LIGHT HOUSE  Lycoming       130 CARPENTER STREET   \n",
       "40043      WELLSBORO AREA FOOD PANTRY     Tioga             36 MAIN STREET   \n",
       "\n",
       "                City State                  AgencyType        lat        lon  \n",
       "AgencyRef                                                                     \n",
       "11050       RED LION    PA      Church Pantry - Agency  39.894004 -76.570890  \n",
       "40036          MUNCY    PA  Non-church Pantry - Agency  41.205642 -76.780767  \n",
       "40043      WELLSBORO    PA  Non-church Pantry - Agency  41.749703 -77.300036  "
      ]
     },
     "execution_count": 4,
     "metadata": {},
     "output_type": "execute_result"
    }
   ],
   "source": [
    "agencies.head(3)"
   ]
  },
  {
   "cell_type": "code",
   "execution_count": 5,
   "metadata": {},
   "outputs": [
    {
     "name": "stdout",
     "output_type": "stream",
     "text": [
      "Number of block groups in Central PA:  2166\n",
      "Number of food agencies in Central PA:  1014\n"
     ]
    }
   ],
   "source": [
    "print('Number of block groups in Central PA: ', len(block_groups))\n",
    "print('Number of food agencies in Central PA: ', len(agencies))"
   ]
  },
  {
   "cell_type": "code",
   "execution_count": 6,
   "metadata": {},
   "outputs": [
    {
     "data": {
      "text/html": [
       "<div>\n",
       "<style scoped>\n",
       "    .dataframe tbody tr th:only-of-type {\n",
       "        vertical-align: middle;\n",
       "    }\n",
       "\n",
       "    .dataframe tbody tr th {\n",
       "        vertical-align: top;\n",
       "    }\n",
       "\n",
       "    .dataframe thead th {\n",
       "        text-align: right;\n",
       "    }\n",
       "</style>\n",
       "<table border=\"1\" class=\"dataframe\">\n",
       "  <thead>\n",
       "    <tr style=\"text-align: right;\">\n",
       "      <th></th>\n",
       "      <th>income</th>\n",
       "      <th>population</th>\n",
       "      <th>kmdensity</th>\n",
       "    </tr>\n",
       "  </thead>\n",
       "  <tbody>\n",
       "    <tr>\n",
       "      <th>count</th>\n",
       "      <td>2166.000000</td>\n",
       "      <td>2166.000000</td>\n",
       "      <td>2166.000000</td>\n",
       "    </tr>\n",
       "    <tr>\n",
       "      <th>mean</th>\n",
       "      <td>26675.701754</td>\n",
       "      <td>1394.739612</td>\n",
       "      <td>1168.259906</td>\n",
       "    </tr>\n",
       "    <tr>\n",
       "      <th>std</th>\n",
       "      <td>9074.516922</td>\n",
       "      <td>692.367101</td>\n",
       "      <td>2151.037648</td>\n",
       "    </tr>\n",
       "    <tr>\n",
       "      <th>min</th>\n",
       "      <td>1968.000000</td>\n",
       "      <td>31.000000</td>\n",
       "      <td>0.755881</td>\n",
       "    </tr>\n",
       "    <tr>\n",
       "      <th>25%</th>\n",
       "      <td>21495.750000</td>\n",
       "      <td>906.000000</td>\n",
       "      <td>58.849299</td>\n",
       "    </tr>\n",
       "    <tr>\n",
       "      <th>50%</th>\n",
       "      <td>25716.500000</td>\n",
       "      <td>1238.000000</td>\n",
       "      <td>407.280991</td>\n",
       "    </tr>\n",
       "    <tr>\n",
       "      <th>75%</th>\n",
       "      <td>31122.750000</td>\n",
       "      <td>1702.000000</td>\n",
       "      <td>1393.129974</td>\n",
       "    </tr>\n",
       "    <tr>\n",
       "      <th>max</th>\n",
       "      <td>88762.000000</td>\n",
       "      <td>5512.000000</td>\n",
       "      <td>35542.800780</td>\n",
       "    </tr>\n",
       "  </tbody>\n",
       "</table>\n",
       "</div>"
      ],
      "text/plain": [
       "             income   population     kmdensity\n",
       "count   2166.000000  2166.000000   2166.000000\n",
       "mean   26675.701754  1394.739612   1168.259906\n",
       "std     9074.516922   692.367101   2151.037648\n",
       "min     1968.000000    31.000000      0.755881\n",
       "25%    21495.750000   906.000000     58.849299\n",
       "50%    25716.500000  1238.000000    407.280991\n",
       "75%    31122.750000  1702.000000   1393.129974\n",
       "max    88762.000000  5512.000000  35542.800780"
      ]
     },
     "execution_count": 6,
     "metadata": {},
     "output_type": "execute_result"
    }
   ],
   "source": [
    "# summary stats for block groups\n",
    "block_groups[['income', 'population', 'kmdensity']].describe()"
   ]
  },
  {
   "cell_type": "code",
   "execution_count": 7,
   "metadata": {},
   "outputs": [
    {
     "name": "stdout",
     "output_type": "stream",
     "text": [
      "Number of missing values in the block groups data:  0\n"
     ]
    }
   ],
   "source": [
    "# check if there is missing data in the block groups dataset\n",
    "print('Number of missing values in the block groups data: ', block_groups.isnull().sum().sum())"
   ]
  },
  {
   "cell_type": "code",
   "execution_count": 8,
   "metadata": {},
   "outputs": [
    {
     "name": "stdout",
     "output_type": "stream",
     "text": [
      "Number of missing values in the agencies data:  4\n"
     ]
    }
   ],
   "source": [
    "# check if there is missing data in the agencies dataset\n",
    "print('Number of missing values in the agencies data: ', agencies.isnull().sum().sum())"
   ]
  },
  {
   "cell_type": "code",
   "execution_count": 9,
   "metadata": {},
   "outputs": [
    {
     "data": {
      "text/plain": [
       "AgencyName    0\n",
       "County        0\n",
       "Addr1         2\n",
       "City          0\n",
       "State         0\n",
       "AgencyType    0\n",
       "lat           1\n",
       "lon           1\n",
       "dtype: int64"
      ]
     },
     "execution_count": 9,
     "metadata": {},
     "output_type": "execute_result"
    }
   ],
   "source": [
    "# check which columns of the agencies data have missing values\n",
    "agencies.isnull().sum()"
   ]
  },
  {
   "cell_type": "code",
   "execution_count": 10,
   "metadata": {},
   "outputs": [
    {
     "data": {
      "text/plain": [
       "AgencyName    0\n",
       "County        0\n",
       "Addr1         2\n",
       "City          0\n",
       "State         0\n",
       "AgencyType    0\n",
       "lat           0\n",
       "lon           0\n",
       "dtype: int64"
      ]
     },
     "execution_count": 10,
     "metadata": {},
     "output_type": "execute_result"
    }
   ],
   "source": [
    "# remove rows that have missing data in lat and lon columns since I'm only interestied \n",
    "# in these columns\n",
    "agencies.dropna(subset=['lat', 'lon'], inplace=True)\n",
    "agencies.isnull().sum()"
   ]
  },
  {
   "cell_type": "markdown",
   "metadata": {},
   "source": [
    "## Distance to nearest agency\n",
    "Here I compute the distance between the centroid of a block group and the nearest agency to it. I use air distance (aka bird fly distance) because block groups are small enough such that using this distance instead of street distance won't be an over-simplification. I use the [Haversine formula](https://en.wikipedia.org/wiki/Haversine_formula) to calculate the [Great-Circle Distance](https://en.wikipedia.org/wiki/Great-circle_distance) to account for the spheric shape of Earth. Distance is then added to the block groups dataset."
   ]
  },
  {
   "cell_type": "code",
   "execution_count": 11,
   "metadata": {},
   "outputs": [],
   "source": [
    "# define distance function (gives distance between lon/lat points in miles)\n",
    "\n",
    "def distance_in_miles(la1, lo1, la2, lo2):\n",
    "    '''\n",
    "    Calculates the distance between two GPS points.\n",
    "    Inputs: la1/lo1: latitude and longitude of point 1, respectively\n",
    "            la2/lo2: latitude and longitude of point 2, respectively\n",
    "    Output: distance (miles) between the two points\n",
    "    '''\n",
    "    # approximate radius of earth in km\n",
    "    R = 6373.0\n",
    "    \n",
    "    lat1 = radians(la1)\n",
    "    lon1 = radians(lo1)\n",
    "    lat2 = radians(la2)\n",
    "    lon2 = radians(lo2)\n",
    "\n",
    "    dlon = lon2 - lon1\n",
    "    dlat = lat2 - lat1\n",
    "\n",
    "    a = sin(dlat / 2)**2 + cos(lat1) * cos(lat2) * sin(dlon / 2)**2\n",
    "    c = 2 * atan2(sqrt(a), sqrt(1 - a))\n",
    "    \n",
    "    # compute distance in miles\n",
    "    distance = R * c * 0.6213712\n",
    "    return distance"
   ]
  },
  {
   "cell_type": "code",
   "execution_count": 12,
   "metadata": {},
   "outputs": [],
   "source": [
    "# calculate distances between block groups and agencies\n",
    "\n",
    "min_distances = []\n",
    "\n",
    "for idx1, row1 in block_groups.iterrows():\n",
    "    block_lat = row1['centy']\n",
    "    block_lon = row1['centx']\n",
    "    distances = []\n",
    "    for idx2, row2 in agencies.iterrows():\n",
    "        agency_lat = row2['lat']\n",
    "        agency_lon = row2['lon']\n",
    "        distances.append(distance_in_miles(block_lat, block_lon, agency_lat, agency_lon))\n",
    "    min_distances.append(min(distances))\n",
    "\n",
    "# add the min_distances list to the block groups data as a column\n",
    "distances = pd.Series(min_distances)\n",
    "block_groups['distance'] = distances.values"
   ]
  },
  {
   "cell_type": "code",
   "execution_count": 13,
   "metadata": {
    "scrolled": true
   },
   "outputs": [
    {
     "data": {
      "text/html": [
       "<div>\n",
       "<style scoped>\n",
       "    .dataframe tbody tr th:only-of-type {\n",
       "        vertical-align: middle;\n",
       "    }\n",
       "\n",
       "    .dataframe tbody tr th {\n",
       "        vertical-align: top;\n",
       "    }\n",
       "\n",
       "    .dataframe thead th {\n",
       "        text-align: right;\n",
       "    }\n",
       "</style>\n",
       "<table border=\"1\" class=\"dataframe\">\n",
       "  <thead>\n",
       "    <tr style=\"text-align: right;\">\n",
       "      <th></th>\n",
       "      <th>aland</th>\n",
       "      <th>awater</th>\n",
       "      <th>income</th>\n",
       "      <th>population</th>\n",
       "      <th>kmdensity</th>\n",
       "      <th>centx</th>\n",
       "      <th>centy</th>\n",
       "      <th>distance</th>\n",
       "    </tr>\n",
       "    <tr>\n",
       "      <th>geoid</th>\n",
       "      <th></th>\n",
       "      <th></th>\n",
       "      <th></th>\n",
       "      <th></th>\n",
       "      <th></th>\n",
       "      <th></th>\n",
       "      <th></th>\n",
       "      <th></th>\n",
       "    </tr>\n",
       "  </thead>\n",
       "  <tbody>\n",
       "    <tr>\n",
       "      <th>420130110012</th>\n",
       "      <td>23519032</td>\n",
       "      <td>13214</td>\n",
       "      <td>22944</td>\n",
       "      <td>846</td>\n",
       "      <td>35.970901</td>\n",
       "      <td>-78.498430</td>\n",
       "      <td>40.448109</td>\n",
       "      <td>1.935046</td>\n",
       "    </tr>\n",
       "    <tr>\n",
       "      <th>420130105001</th>\n",
       "      <td>27698847</td>\n",
       "      <td>29740</td>\n",
       "      <td>23042</td>\n",
       "      <td>715</td>\n",
       "      <td>25.813299</td>\n",
       "      <td>-78.439655</td>\n",
       "      <td>40.559719</td>\n",
       "      <td>3.316552</td>\n",
       "    </tr>\n",
       "    <tr>\n",
       "      <th>420130115002</th>\n",
       "      <td>18645960</td>\n",
       "      <td>0</td>\n",
       "      <td>19971</td>\n",
       "      <td>1269</td>\n",
       "      <td>68.057602</td>\n",
       "      <td>-78.467734</td>\n",
       "      <td>40.347121</td>\n",
       "      <td>2.352564</td>\n",
       "    </tr>\n",
       "    <tr>\n",
       "      <th>420130110022</th>\n",
       "      <td>3256834</td>\n",
       "      <td>0</td>\n",
       "      <td>32679</td>\n",
       "      <td>916</td>\n",
       "      <td>281.255005</td>\n",
       "      <td>-78.434047</td>\n",
       "      <td>40.463483</td>\n",
       "      <td>0.216430</td>\n",
       "    </tr>\n",
       "    <tr>\n",
       "      <th>420131016001</th>\n",
       "      <td>192907</td>\n",
       "      <td>0</td>\n",
       "      <td>11603</td>\n",
       "      <td>1131</td>\n",
       "      <td>5862.930176</td>\n",
       "      <td>-78.390637</td>\n",
       "      <td>40.514157</td>\n",
       "      <td>0.503062</td>\n",
       "    </tr>\n",
       "  </tbody>\n",
       "</table>\n",
       "</div>"
      ],
      "text/plain": [
       "                 aland  awater  income  population    kmdensity      centx  \\\n",
       "geoid                                                                        \n",
       "420130110012  23519032   13214   22944         846    35.970901 -78.498430   \n",
       "420130105001  27698847   29740   23042         715    25.813299 -78.439655   \n",
       "420130115002  18645960       0   19971        1269    68.057602 -78.467734   \n",
       "420130110022   3256834       0   32679         916   281.255005 -78.434047   \n",
       "420131016001    192907       0   11603        1131  5862.930176 -78.390637   \n",
       "\n",
       "                  centy  distance  \n",
       "geoid                              \n",
       "420130110012  40.448109  1.935046  \n",
       "420130105001  40.559719  3.316552  \n",
       "420130115002  40.347121  2.352564  \n",
       "420130110022  40.463483  0.216430  \n",
       "420131016001  40.514157  0.503062  "
      ]
     },
     "execution_count": 13,
     "metadata": {},
     "output_type": "execute_result"
    }
   ],
   "source": [
    "block_groups.head()"
   ]
  },
  {
   "cell_type": "markdown",
   "metadata": {},
   "source": [
    "### Do agencies tend to be in low-income areas?\n",
    "\n",
    "In the literature, there are two competing hypotheses explaining the demand for food assistance. The first hypothesis is called the responsive community hypothesis, which states that areas with higher levels of poverty have less food assistance demands because the need in those areas is more apparent and local communities will respond to those needs by opening more food agencies, which results in less unsatisfied food demand. On the contrary, the second hypothesis states that those areas with higher levels of poverty have higher unsatisfied food demands due to lack of economic resources in those areas. The lack of resources hinders the opening of food agencies, which results in higher unsatisfied food demands. \n",
    "\n",
    "Below, I try to see if low-income areas tend to have nearby agencies by looking at the relationship between the average income of a block group and the distance to its nearest agency.\n",
    "\n",
    "**Note:** I only look at whether an agency is present or not. For a complete analysis, one has to look at the amount of food received by an agency as well."
   ]
  },
  {
   "cell_type": "code",
   "execution_count": 14,
   "metadata": {},
   "outputs": [
    {
     "data": {
      "image/png": "[encoded data removed]",
      "text/plain": [
       "<Figure size 432x288 with 2 Axes>"
      ]
     },
     "metadata": {
      "needs_background": "light"
     },
     "output_type": "display_data"
    }
   ],
   "source": [
    "# first, check correlation matrix\n",
    "sb.heatmap(block_groups.corr(), annot=True, fmt='0.2f');"
   ]
  },
  {
   "cell_type": "markdown",
   "metadata": {},
   "source": [
    "#### Judging from the correlation matrix:\n",
    "Distance seems to be correlated with the area of land and the population density. The larger the area, the longer the distance to an agency. This gives an indication that agencies tend to be more common in urban areas. This is consistent with the negative correlation with population density, which means the higher the density the shorter the distance to an agency.\n",
    "\n",
    "There seems to be no correlation between distance and income. Correlation coefficient, however, only depicts **linear** relationships. Therefore, when the correlation coefficient between two variables is zero, this means there is no linear relationship between them. But, there could still be a relationship of higher orders, i.e. non-linear."
   ]
  },
  {
   "cell_type": "markdown",
   "metadata": {},
   "source": [
    "### Income vs. Distance\n",
    "Below is a heatmap, or 2-dimensional histogram, between income and distance. Color indicates frequency of a certain pair of values. The hotter, the more frequent. \n",
    "\n",
    "Income axis is divided into $2,000 increments; distance is divided into 0.5 miles increments."
   ]
  },
  {
   "cell_type": "code",
   "execution_count": 15,
   "metadata": {},
   "outputs": [
    {
     "data": {
      "image/png": "[encoded data removed]",
      "text/plain": [
       "<Figure size 432x288 with 2 Axes>"
      ]
     },
     "metadata": {
      "needs_background": "light"
     },
     "output_type": "display_data"
    }
   ],
   "source": [
    "# bins sizes\n",
    "bins_x = np.arange(block_groups['income'].min(), 60000+2000, 2000)\n",
    "bins_y = np.arange(block_groups['distance'].min(), 10+0.5, 0.5)\n",
    "\n",
    "plt.hist2d(block_groups['income'], block_groups['distance'], bins= [bins_x, bins_y],\n",
    "           cmap='jet');\n",
    "plt.colorbar();\n",
    "plt.xlabel('Income ($)');\n",
    "plt.ylabel('Distance (miles)');\n",
    "plt.title('Income Vs. Distance to the nearest food agency (per block group)');"
   ]
  },
  {
   "cell_type": "markdown",
   "metadata": {},
   "source": [
    "Agencies do seem to have a tendency towards lower income block groups."
   ]
  },
  {
   "cell_type": "markdown",
   "metadata": {},
   "source": [
    "### Identifying Under-served Areas\n",
    "One of the objectives of the Central PA Food Bank is to identify under-served areas (or over-served areas). An under-served area is one where an agency is needed but there isn't one. Also, an under-served area could be one that does have an agency present, but it's not getting enough food assistance. However, I only look at the existence of an agency, or lack thereof, because food distribution data is not available.\n",
    "\n",
    "Given the large number of block groups, it's difficult to pinpoint the ones that are under-served (if they exist) individually. Instead, it's easier to cluster similar block groups together. Then, identify the clusters that are in the most need for food assistance (perhaps those with lower income and longer distances). This way, the food bank can prioritize their distribution efforts more efficiently by targeting those clusters. "
   ]
  },
  {
   "cell_type": "markdown",
   "metadata": {},
   "source": [
    "#### Feature scaling\n",
    "Block groups data have features with different scales. It's important to scale the data to avoid having one feature dominate the clustering process."
   ]
  },
  {
   "cell_type": "code",
   "execution_count": 16,
   "metadata": {},
   "outputs": [
    {
     "data": {
      "text/html": [
       "<div>\n",
       "<style scoped>\n",
       "    .dataframe tbody tr th:only-of-type {\n",
       "        vertical-align: middle;\n",
       "    }\n",
       "\n",
       "    .dataframe tbody tr th {\n",
       "        vertical-align: top;\n",
       "    }\n",
       "\n",
       "    .dataframe thead th {\n",
       "        text-align: right;\n",
       "    }\n",
       "</style>\n",
       "<table border=\"1\" class=\"dataframe\">\n",
       "  <thead>\n",
       "    <tr style=\"text-align: right;\">\n",
       "      <th></th>\n",
       "      <th>income</th>\n",
       "      <th>kmdensity</th>\n",
       "      <th>distance</th>\n",
       "    </tr>\n",
       "    <tr>\n",
       "      <th>geoid</th>\n",
       "      <th></th>\n",
       "      <th></th>\n",
       "      <th></th>\n",
       "    </tr>\n",
       "  </thead>\n",
       "  <tbody>\n",
       "    <tr>\n",
       "      <th>420130110012</th>\n",
       "      <td>22944</td>\n",
       "      <td>35.970901</td>\n",
       "      <td>1.935046</td>\n",
       "    </tr>\n",
       "    <tr>\n",
       "      <th>420130105001</th>\n",
       "      <td>23042</td>\n",
       "      <td>25.813299</td>\n",
       "      <td>3.316552</td>\n",
       "    </tr>\n",
       "    <tr>\n",
       "      <th>420130115002</th>\n",
       "      <td>19971</td>\n",
       "      <td>68.057602</td>\n",
       "      <td>2.352564</td>\n",
       "    </tr>\n",
       "    <tr>\n",
       "      <th>420130110022</th>\n",
       "      <td>32679</td>\n",
       "      <td>281.255005</td>\n",
       "      <td>0.216430</td>\n",
       "    </tr>\n",
       "    <tr>\n",
       "      <th>420131016001</th>\n",
       "      <td>11603</td>\n",
       "      <td>5862.930176</td>\n",
       "      <td>0.503062</td>\n",
       "    </tr>\n",
       "  </tbody>\n",
       "</table>\n",
       "</div>"
      ],
      "text/plain": [
       "              income    kmdensity  distance\n",
       "geoid                                      \n",
       "420130110012   22944    35.970901  1.935046\n",
       "420130105001   23042    25.813299  3.316552\n",
       "420130115002   19971    68.057602  2.352564\n",
       "420130110022   32679   281.255005  0.216430\n",
       "420131016001   11603  5862.930176  0.503062"
      ]
     },
     "execution_count": 16,
     "metadata": {},
     "output_type": "execute_result"
    }
   ],
   "source": [
    "# selecting the features that will be used for clustering block groups\n",
    "data = block_groups[['income', 'kmdensity', 'distance']]\n",
    "data.head()"
   ]
  },
  {
   "cell_type": "code",
   "execution_count": 17,
   "metadata": {},
   "outputs": [
    {
     "name": "stderr",
     "output_type": "stream",
     "text": [
      "c:\\python371\\lib\\site-packages\\sklearn\\preprocessing\\data.py:645: DataConversionWarning: Data with input dtype int64, float64 were all converted to float64 by StandardScaler.\n",
      "  return self.partial_fit(X, y)\n",
      "c:\\python371\\lib\\site-packages\\sklearn\\base.py:464: DataConversionWarning: Data with input dtype int64, float64 were all converted to float64 by StandardScaler.\n",
      "  return self.fit(X, **fit_params).transform(X)\n"
     ]
    },
    {
     "data": {
      "text/html": [
       "<div>\n",
       "<style scoped>\n",
       "    .dataframe tbody tr th:only-of-type {\n",
       "        vertical-align: middle;\n",
       "    }\n",
       "\n",
       "    .dataframe tbody tr th {\n",
       "        vertical-align: top;\n",
       "    }\n",
       "\n",
       "    .dataframe thead th {\n",
       "        text-align: right;\n",
       "    }\n",
       "</style>\n",
       "<table border=\"1\" class=\"dataframe\">\n",
       "  <thead>\n",
       "    <tr style=\"text-align: right;\">\n",
       "      <th></th>\n",
       "      <th>income</th>\n",
       "      <th>kmdensity</th>\n",
       "      <th>distance</th>\n",
       "    </tr>\n",
       "  </thead>\n",
       "  <tbody>\n",
       "    <tr>\n",
       "      <th>0</th>\n",
       "      <td>-0.411324</td>\n",
       "      <td>-0.526514</td>\n",
       "      <td>-0.078179</td>\n",
       "    </tr>\n",
       "    <tr>\n",
       "      <th>1</th>\n",
       "      <td>-0.400522</td>\n",
       "      <td>-0.531237</td>\n",
       "      <td>0.500308</td>\n",
       "    </tr>\n",
       "    <tr>\n",
       "      <th>2</th>\n",
       "      <td>-0.739020</td>\n",
       "      <td>-0.511593</td>\n",
       "      <td>0.096651</td>\n",
       "    </tr>\n",
       "    <tr>\n",
       "      <th>3</th>\n",
       "      <td>0.661708</td>\n",
       "      <td>-0.412457</td>\n",
       "      <td>-0.797827</td>\n",
       "    </tr>\n",
       "    <tr>\n",
       "      <th>4</th>\n",
       "      <td>-1.661376</td>\n",
       "      <td>2.183018</td>\n",
       "      <td>-0.677804</td>\n",
       "    </tr>\n",
       "  </tbody>\n",
       "</table>\n",
       "</div>"
      ],
      "text/plain": [
       "     income  kmdensity  distance\n",
       "0 -0.411324  -0.526514 -0.078179\n",
       "1 -0.400522  -0.531237  0.500308\n",
       "2 -0.739020  -0.511593  0.096651\n",
       "3  0.661708  -0.412457 -0.797827\n",
       "4 -1.661376   2.183018 -0.677804"
      ]
     },
     "execution_count": 17,
     "metadata": {},
     "output_type": "execute_result"
    }
   ],
   "source": [
    "# import standard scaler from sklearn\n",
    "from sklearn.preprocessing import StandardScaler\n",
    "# define a scaler\n",
    "scaler = StandardScaler()\n",
    "# scaling the data\n",
    "data_scaled = scaler.fit_transform(data)\n",
    "# create a dataframe for the scaled data\n",
    "df_scaled = pd.DataFrame(data_scaled)\n",
    "df_scaled.columns = data.columns\n",
    "df_scaled.head()"
   ]
  },
  {
   "cell_type": "code",
   "execution_count": 18,
   "metadata": {},
   "outputs": [],
   "source": [
    "from sklearn.cluster import KMeans\n",
    "\n",
    "def get_kmeans_score(data, centers):\n",
    "    '''\n",
    "    Returns the kmeans score regarding SSE for points to centers\n",
    "    INPUT:\n",
    "        data - the dataset you want to fit kmeans to\n",
    "        center - the number of centers you want (the k value)\n",
    "    OUTPUT:\n",
    "        score - the SSE score for the kmeans model fit to the data\n",
    "    '''\n",
    "    #instantiate kmeans\n",
    "    kmeans = KMeans(n_clusters=centers)\n",
    "\n",
    "    # Then fit the model to data using the fit method\n",
    "    model = kmeans.fit(data)\n",
    "    \n",
    "    # Obtain a score related to the model fit\n",
    "    score = np.abs(model.score(data))\n",
    "    \n",
    "    return score"
   ]
  },
  {
   "cell_type": "code",
   "execution_count": 19,
   "metadata": {},
   "outputs": [
    {
     "data": {
      "image/png": "[encoded data removed]",
      "text/plain": [
       "<Figure size 432x288 with 1 Axes>"
      ]
     },
     "metadata": {},
     "output_type": "display_data"
    }
   ],
   "source": [
    "# determining the appropriate number of clusters using the elbow method\n",
    "\n",
    "scores = []\n",
    "centers = list(range(1, 31))\n",
    "\n",
    "for center in centers:\n",
    "    scores.append(get_kmeans_score(df_scaled, center))\n",
    "\n",
    "plt.style.use('ggplot')\n",
    "plt.plot(centers, scores, linestyle='--', marker='o', color='b');\n",
    "plt.xlabel('Number of clusters, k');\n",
    "plt.ylabel('SSE');\n",
    "plt.title('SSE vs. Number of clusters');"
   ]
  },
  {
   "cell_type": "markdown",
   "metadata": {},
   "source": [
    "10 seems to be the \"elbow\", since the reduction in SSE is insignificant when k > 10"
   ]
  },
  {
   "cell_type": "code",
   "execution_count": 20,
   "metadata": {},
   "outputs": [],
   "source": [
    "# re-clustering the data with a number of clusters = 10\n",
    "kmeans_10 = KMeans(n_clusters=10)\n",
    "model_10 = kmeans_10.fit(df_scaled)\n",
    "# block groups cluster predictions\n",
    "predictions = model_10.predict(df_scaled)"
   ]
  },
  {
   "cell_type": "code",
   "execution_count": 21,
   "metadata": {},
   "outputs": [
    {
     "data": {
      "image/png": "[encoded data removed]",
      "text/plain": [
       "<Figure size 432x288 with 1 Axes>"
      ]
     },
     "metadata": {},
     "output_type": "display_data"
    }
   ],
   "source": [
    "# plotting the clusters\n",
    "sb.countplot(predictions);\n",
    "plt.xlabel('Cluster');\n",
    "plt.title('Block groups clusters');"
   ]
  },
  {
   "cell_type": "code",
   "execution_count": 22,
   "metadata": {},
   "outputs": [],
   "source": [
    "# retreiving clusters features' centers\n",
    "cluster_centers = scaler.inverse_transform(model_10.cluster_centers_)"
   ]
  },
  {
   "cell_type": "code",
   "execution_count": 23,
   "metadata": {
    "scrolled": true
   },
   "outputs": [
    {
     "data": {
      "text/html": [
       "<div>\n",
       "<style scoped>\n",
       "    .dataframe tbody tr th:only-of-type {\n",
       "        vertical-align: middle;\n",
       "    }\n",
       "\n",
       "    .dataframe tbody tr th {\n",
       "        vertical-align: top;\n",
       "    }\n",
       "\n",
       "    .dataframe thead th {\n",
       "        text-align: right;\n",
       "    }\n",
       "</style>\n",
       "<table border=\"1\" class=\"dataframe\">\n",
       "  <thead>\n",
       "    <tr style=\"text-align: right;\">\n",
       "      <th></th>\n",
       "      <th>income</th>\n",
       "      <th>kmdensity</th>\n",
       "      <th>distance</th>\n",
       "    </tr>\n",
       "  </thead>\n",
       "  <tbody>\n",
       "    <tr>\n",
       "      <th>Cluster_1</th>\n",
       "      <td>25791.935162</td>\n",
       "      <td>170.553528</td>\n",
       "      <td>2.648003</td>\n",
       "    </tr>\n",
       "    <tr>\n",
       "      <th>Cluster_2</th>\n",
       "      <td>16964.651246</td>\n",
       "      <td>1925.649991</td>\n",
       "      <td>0.483526</td>\n",
       "    </tr>\n",
       "    <tr>\n",
       "      <th>Cluster_3</th>\n",
       "      <td>23958.827586</td>\n",
       "      <td>38.970273</td>\n",
       "      <td>9.884179</td>\n",
       "    </tr>\n",
       "    <tr>\n",
       "      <th>Cluster_4</th>\n",
       "      <td>10344.666667</td>\n",
       "      <td>12005.020468</td>\n",
       "      <td>0.135641</td>\n",
       "    </tr>\n",
       "    <tr>\n",
       "      <th>Cluster_5</th>\n",
       "      <td>36368.784367</td>\n",
       "      <td>544.351324</td>\n",
       "      <td>1.532028</td>\n",
       "    </tr>\n",
       "    <tr>\n",
       "      <th>Cluster_6</th>\n",
       "      <td>16638.488722</td>\n",
       "      <td>5637.601159</td>\n",
       "      <td>0.216121</td>\n",
       "    </tr>\n",
       "    <tr>\n",
       "      <th>Cluster_7</th>\n",
       "      <td>25863.133333</td>\n",
       "      <td>95.601676</td>\n",
       "      <td>5.450183</td>\n",
       "    </tr>\n",
       "    <tr>\n",
       "      <th>Cluster_8</th>\n",
       "      <td>2177.500000</td>\n",
       "      <td>33803.550780</td>\n",
       "      <td>0.495987</td>\n",
       "    </tr>\n",
       "    <tr>\n",
       "      <th>Cluster_9</th>\n",
       "      <td>53345.987179</td>\n",
       "      <td>715.346585</td>\n",
       "      <td>1.462470</td>\n",
       "    </tr>\n",
       "    <tr>\n",
       "      <th>Cluster_10</th>\n",
       "      <td>25979.038536</td>\n",
       "      <td>1018.243845</td>\n",
       "      <td>0.676433</td>\n",
       "    </tr>\n",
       "  </tbody>\n",
       "</table>\n",
       "</div>"
      ],
      "text/plain": [
       "                  income     kmdensity  distance\n",
       "Cluster_1   25791.935162    170.553528  2.648003\n",
       "Cluster_2   16964.651246   1925.649991  0.483526\n",
       "Cluster_3   23958.827586     38.970273  9.884179\n",
       "Cluster_4   10344.666667  12005.020468  0.135641\n",
       "Cluster_5   36368.784367    544.351324  1.532028\n",
       "Cluster_6   16638.488722   5637.601159  0.216121\n",
       "Cluster_7   25863.133333     95.601676  5.450183\n",
       "Cluster_8    2177.500000  33803.550780  0.495987\n",
       "Cluster_9   53345.987179    715.346585  1.462470\n",
       "Cluster_10  25979.038536   1018.243845  0.676433"
      ]
     },
     "execution_count": 23,
     "metadata": {},
     "output_type": "execute_result"
    }
   ],
   "source": [
    "# saving cluster centers as a dataframe\n",
    "cluster_ids = ['Cluster_{}'.format(i) for i in range(1, cluster_centers.shape[0]+1)]\n",
    "centers_df = pd.DataFrame(data=cluster_centers, columns=df_scaled.columns, index=cluster_ids)\n",
    "centers_df"
   ]
  },
  {
   "cell_type": "code",
   "execution_count": 24,
   "metadata": {},
   "outputs": [
    {
     "data": {
      "text/html": [
       "<div>\n",
       "<style scoped>\n",
       "    .dataframe tbody tr th:only-of-type {\n",
       "        vertical-align: middle;\n",
       "    }\n",
       "\n",
       "    .dataframe tbody tr th {\n",
       "        vertical-align: top;\n",
       "    }\n",
       "\n",
       "    .dataframe thead th {\n",
       "        text-align: right;\n",
       "    }\n",
       "</style>\n",
       "<table border=\"1\" class=\"dataframe\">\n",
       "  <thead>\n",
       "    <tr style=\"text-align: right;\">\n",
       "      <th></th>\n",
       "      <th>income</th>\n",
       "      <th>kmdensity</th>\n",
       "      <th>distance</th>\n",
       "    </tr>\n",
       "  </thead>\n",
       "  <tbody>\n",
       "    <tr>\n",
       "      <th>Cluster_1</th>\n",
       "      <td>25791.935162</td>\n",
       "      <td>170.553528</td>\n",
       "      <td>2.648003</td>\n",
       "    </tr>\n",
       "    <tr>\n",
       "      <th>Cluster_3</th>\n",
       "      <td>23958.827586</td>\n",
       "      <td>38.970273</td>\n",
       "      <td>9.884179</td>\n",
       "    </tr>\n",
       "    <tr>\n",
       "      <th>Cluster_5</th>\n",
       "      <td>36368.784367</td>\n",
       "      <td>544.351324</td>\n",
       "      <td>1.532028</td>\n",
       "    </tr>\n",
       "    <tr>\n",
       "      <th>Cluster_7</th>\n",
       "      <td>25863.133333</td>\n",
       "      <td>95.601676</td>\n",
       "      <td>5.450183</td>\n",
       "    </tr>\n",
       "    <tr>\n",
       "      <th>Cluster_9</th>\n",
       "      <td>53345.987179</td>\n",
       "      <td>715.346585</td>\n",
       "      <td>1.462470</td>\n",
       "    </tr>\n",
       "  </tbody>\n",
       "</table>\n",
       "</div>"
      ],
      "text/plain": [
       "                 income   kmdensity  distance\n",
       "Cluster_1  25791.935162  170.553528  2.648003\n",
       "Cluster_3  23958.827586   38.970273  9.884179\n",
       "Cluster_5  36368.784367  544.351324  1.532028\n",
       "Cluster_7  25863.133333   95.601676  5.450183\n",
       "Cluster_9  53345.987179  715.346585  1.462470"
      ]
     },
     "execution_count": 24,
     "metadata": {},
     "output_type": "execute_result"
    }
   ],
   "source": [
    "# clusters of block groups with far agencies\n",
    "centers_df[centers_df['distance'] >= 1]"
   ]
  },
  {
   "cell_type": "markdown",
   "metadata": {},
   "source": [
    "#### Interpreting the results\n",
    "In the above cell: clusters with average distance greater than 1 mile are shown. Clusters 3 and 7 have the largest average distances (farthest agencies) and they are relatively low-income clusters. However, they are also less densely populated than the others. Cluster 1 is low-income; more populated than clusters 3 and 7; and has an average distance of 2.6 miles, which is considered far given that many people who benefit from the food bank do not have a car and have to walk to the food bank.\n",
    "\n",
    "So, we can list the clusters according to their need for an agency (first has the most need):\n",
    "    1. Cluster 1\n",
    "    2. Cluster 7\n",
    "    3. Cluster 3\n",
    "    4. Cluster 5\n",
    "    5. Cluster 9"
   ]
  },
  {
   "cell_type": "markdown",
   "metadata": {},
   "source": [
    "### Mapping the under-served block groups\n",
    "Ideally, I would use the library [Folium](https://python-visualization.github.io/folium/quickstart.html#Choropleth-maps) to create a choropleth map visualizing the clusters. However, the GeoJson data ended up being so large that folium couldn't handle well. Therefore, I am resorting to ArcGIS to create the map.\n",
    "\n",
    "Below, I add the cluster labels to the block groups dataframe, and then write the resulting dataframe to a CSV file to use in ArcGIS"
   ]
  },
  {
   "cell_type": "code",
   "execution_count": 25,
   "metadata": {},
   "outputs": [
    {
     "data": {
      "text/html": [
       "<div>\n",
       "<style scoped>\n",
       "    .dataframe tbody tr th:only-of-type {\n",
       "        vertical-align: middle;\n",
       "    }\n",
       "\n",
       "    .dataframe tbody tr th {\n",
       "        vertical-align: top;\n",
       "    }\n",
       "\n",
       "    .dataframe thead th {\n",
       "        text-align: right;\n",
       "    }\n",
       "</style>\n",
       "<table border=\"1\" class=\"dataframe\">\n",
       "  <thead>\n",
       "    <tr style=\"text-align: right;\">\n",
       "      <th></th>\n",
       "      <th>aland</th>\n",
       "      <th>awater</th>\n",
       "      <th>income</th>\n",
       "      <th>population</th>\n",
       "      <th>kmdensity</th>\n",
       "      <th>centx</th>\n",
       "      <th>centy</th>\n",
       "      <th>distance</th>\n",
       "      <th>cluster</th>\n",
       "    </tr>\n",
       "    <tr>\n",
       "      <th>geoid</th>\n",
       "      <th></th>\n",
       "      <th></th>\n",
       "      <th></th>\n",
       "      <th></th>\n",
       "      <th></th>\n",
       "      <th></th>\n",
       "      <th></th>\n",
       "      <th></th>\n",
       "      <th></th>\n",
       "    </tr>\n",
       "  </thead>\n",
       "  <tbody>\n",
       "    <tr>\n",
       "      <th>420130110012</th>\n",
       "      <td>23519032</td>\n",
       "      <td>13214</td>\n",
       "      <td>22944</td>\n",
       "      <td>846</td>\n",
       "      <td>35.970901</td>\n",
       "      <td>-78.498430</td>\n",
       "      <td>40.448109</td>\n",
       "      <td>1.935046</td>\n",
       "      <td>0</td>\n",
       "    </tr>\n",
       "    <tr>\n",
       "      <th>420130105001</th>\n",
       "      <td>27698847</td>\n",
       "      <td>29740</td>\n",
       "      <td>23042</td>\n",
       "      <td>715</td>\n",
       "      <td>25.813299</td>\n",
       "      <td>-78.439655</td>\n",
       "      <td>40.559719</td>\n",
       "      <td>3.316552</td>\n",
       "      <td>0</td>\n",
       "    </tr>\n",
       "    <tr>\n",
       "      <th>420130115002</th>\n",
       "      <td>18645960</td>\n",
       "      <td>0</td>\n",
       "      <td>19971</td>\n",
       "      <td>1269</td>\n",
       "      <td>68.057602</td>\n",
       "      <td>-78.467734</td>\n",
       "      <td>40.347121</td>\n",
       "      <td>2.352564</td>\n",
       "      <td>0</td>\n",
       "    </tr>\n",
       "    <tr>\n",
       "      <th>420130110022</th>\n",
       "      <td>3256834</td>\n",
       "      <td>0</td>\n",
       "      <td>32679</td>\n",
       "      <td>916</td>\n",
       "      <td>281.255005</td>\n",
       "      <td>-78.434047</td>\n",
       "      <td>40.463483</td>\n",
       "      <td>0.216430</td>\n",
       "      <td>4</td>\n",
       "    </tr>\n",
       "    <tr>\n",
       "      <th>420131016001</th>\n",
       "      <td>192907</td>\n",
       "      <td>0</td>\n",
       "      <td>11603</td>\n",
       "      <td>1131</td>\n",
       "      <td>5862.930176</td>\n",
       "      <td>-78.390637</td>\n",
       "      <td>40.514157</td>\n",
       "      <td>0.503062</td>\n",
       "      <td>5</td>\n",
       "    </tr>\n",
       "  </tbody>\n",
       "</table>\n",
       "</div>"
      ],
      "text/plain": [
       "                 aland  awater  income  population    kmdensity      centx  \\\n",
       "geoid                                                                        \n",
       "420130110012  23519032   13214   22944         846    35.970901 -78.498430   \n",
       "420130105001  27698847   29740   23042         715    25.813299 -78.439655   \n",
       "420130115002  18645960       0   19971        1269    68.057602 -78.467734   \n",
       "420130110022   3256834       0   32679         916   281.255005 -78.434047   \n",
       "420131016001    192907       0   11603        1131  5862.930176 -78.390637   \n",
       "\n",
       "                  centy  distance  cluster  \n",
       "geoid                                       \n",
       "420130110012  40.448109  1.935046        0  \n",
       "420130105001  40.559719  3.316552        0  \n",
       "420130115002  40.347121  2.352564        0  \n",
       "420130110022  40.463483  0.216430        4  \n",
       "420131016001  40.514157  0.503062        5  "
      ]
     },
     "execution_count": 25,
     "metadata": {},
     "output_type": "execute_result"
    }
   ],
   "source": [
    "labels = pd.Series(predictions, index=block_groups.index)\n",
    "block_groups['cluster'] = labels\n",
    "block_groups.head()"
   ]
  },
  {
   "cell_type": "code",
   "execution_count": 26,
   "metadata": {},
   "outputs": [],
   "source": [
    "block_groups.to_csv('block_groups_clusters.csv')"
   ]
  },
  {
   "cell_type": "markdown",
   "metadata": {},
   "source": [
    "### Clusters Map\n",
    "<img src=\"clusters_map.jpg\" alt=\"A map showing locations of clusters\" title=\"Clusters Map\" width=\"450\"/>"
   ]
  },
  {
   "cell_type": "code",
   "execution_count": null,
   "metadata": {},
   "outputs": [],
   "source": []
  }
 ],
 "metadata": {
  "kernelspec": {
   "display_name": "Python 3",
   "language": "python",
   "name": "python3"
  },
  "language_info": {
   "codemirror_mode": {
    "name": "ipython",
    "version": 3
   },
   "file_extension": ".py",
   "mimetype": "text/x-python",
   "name": "python",
   "nbconvert_exporter": "python",
   "pygments_lexer": "ipython3",
   "version": "3.7.1"
  }
 },
 "nbformat": 4,
 "nbformat_minor": 2
}
